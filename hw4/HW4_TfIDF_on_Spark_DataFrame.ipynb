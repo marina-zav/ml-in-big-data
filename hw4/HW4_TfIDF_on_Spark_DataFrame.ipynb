{
  "nbformat": 4,
  "nbformat_minor": 0,
  "metadata": {
    "colab": {
      "name": "Copy of HW4: TfIDF on Spark DataFrame.ipynb",
      "provenance": []
    },
    "kernelspec": {
      "name": "python3",
      "display_name": "Python 3"
    },
    "language_info": {
      "name": "python"
    }
  },
  "cells": [
    {
      "cell_type": "code",
      "metadata": {
        "id": "Pc_n1Ce7JEg3"
      },
      "source": [
        "# Install Spark"
      ],
      "execution_count": null,
      "outputs": []
    },
    {
      "cell_type": "code",
      "metadata": {
        "id": "WZKwLLl5j5x4"
      },
      "source": [
        "!apt-get install openjdk-8-jdk-headless -qq > /dev/null\n",
        "!!wget -q https://archive.apache.org/dist/spark/spark-3.0.1/spark-3.0.1-bin-hadoop2.7.tgz\n",
        "!tar xf spark-3.0.1-bin-hadoop2.7.tgz\n",
        "\n",
        "import os\n",
        "os.environ[\"JAVA_HOME\"] = \"/usr/lib/jvm/java-8-openjdk-amd64\"\n",
        "os.environ[\"SPARK_HOME\"] = \"/content/spark-3.0.1-bin-hadoop2.7\"\n",
        "\n",
        "!pip install -q findspark\n",
        "import findspark\n",
        "findspark.init()"
      ],
      "execution_count": null,
      "outputs": []
    },
    {
      "cell_type": "code",
      "metadata": {
        "id": "Fjemn7PuJJMl"
      },
      "source": [
        "# Start Spark App"
      ],
      "execution_count": null,
      "outputs": []
    },
    {
      "cell_type": "code",
      "metadata": {
        "id": "mceT90HHl53K"
      },
      "source": [
        "from pyspark.sql import SparkSession\n",
        "\n",
        "spark = SparkSession.builder\\\n",
        "        .master(\"local\")\\\n",
        "        .appName(\"Colab\")\\\n",
        "        .config('spark.ui.port', '4050')\\\n",
        "        .getOrCreate()"
      ],
      "execution_count": null,
      "outputs": []
    },
    {
      "cell_type": "code",
      "metadata": {
        "id": "xwpmA_LNnYtE"
      },
      "source": [
        "from pyspark.sql import functions as F\n",
        "from pyspark.sql.types import IntegerType"
      ],
      "execution_count": null,
      "outputs": []
    },
    {
      "cell_type": "code",
      "metadata": {
        "id": "6KoaVuYmJMB-"
      },
      "source": [
        "# Read data"
      ],
      "execution_count": null,
      "outputs": []
    },
    {
      "cell_type": "code",
      "metadata": {
        "colab": {
          "base_uri": "https://localhost:8080/"
        },
        "id": "yHv7yUeCmCSK",
        "outputId": "51b6661e-be7e-4a8a-d830-bd37165b98d8"
      },
      "source": [
        "df = spark.read.option(\"header\", \"true\").option(\"inferSchema\", \"true\").csv(\"tripadvisor_hotel_reviews.csv\")\n",
        "n_docs = df.count()\n",
        "print(f\"Total number of documents: {n_docs}\")"
      ],
      "execution_count": null,
      "outputs": [
        {
          "output_type": "stream",
          "name": "stdout",
          "text": [
            "Total number of documents: 20491\n"
          ]
        }
      ]
    },
    {
      "cell_type": "code",
      "metadata": {
        "id": "4qKNvu_8tU_6"
      },
      "source": [
        "df = df.select(F.lower(F.col('Review')).alias('Review'))\n",
        "df = df.withColumn(\"Review\", F.regexp_replace(\"Review\", r\"[^A-Za-z0-9 ]+\", \"\"))\n",
        "df = df.select(F.split(F.col(\"Review\"),\" \").alias(\"Review\"))"
      ],
      "execution_count": null,
      "outputs": []
    },
    {
      "cell_type": "code",
      "metadata": {
        "id": "byNvJtJWJOj5"
      },
      "source": [
        "# Calculate IDF"
      ],
      "execution_count": null,
      "outputs": []
    },
    {
      "cell_type": "code",
      "metadata": {
        "id": "IDStoois33oZ"
      },
      "source": [
        "idf = df.withColumn(\"disctinct_review\", F.array_distinct(F.col(\"Review\"))).drop(\"Review\")\n",
        "idf = idf.withColumn(\"word_in_doc_count\", F.lit(\"1\").cast(IntegerType()))\n",
        "idf = idf.withColumn(\"word\", F.explode(F.col(\"disctinct_review\"))).drop(\"disctinct_review\")\n",
        "idf = idf.filter(F.col(\"word\")!=\"\")"
      ],
      "execution_count": null,
      "outputs": []
    },
    {
      "cell_type": "code",
      "metadata": {
        "id": "h-vsSjzm4D_1"
      },
      "source": [
        "idf = idf.groupby(F.col(\"word\")).agg(F.sum(\"word_in_doc_count\").alias(\"word_in_doc_count\"))\n",
        "idf = idf.orderBy(F.col(\"word_in_doc_count\").desc())\n",
        "idf = idf.limit(100)\n",
        "idf = idf.withColumn(\"idf\", F.log10(n_docs/F.col(\"word_in_doc_count\")))\n",
        "idf = idf.select(\"word\", \"idf\")"
      ],
      "execution_count": null,
      "outputs": []
    },
    {
      "cell_type": "code",
      "metadata": {
        "id": "_ePWC_yzCdnr"
      },
      "source": [
        "TOP_WORDS = [row.word for row in idf.select(\"word\").collect()]"
      ],
      "execution_count": null,
      "outputs": []
    },
    {
      "cell_type": "code",
      "metadata": {
        "id": "4hUuCQPW7TOv"
      },
      "source": [
        "idf.show(5)"
      ],
      "execution_count": null,
      "outputs": []
    },
    {
      "cell_type": "code",
      "metadata": {
        "id": "OHK-UIeFJRJO"
      },
      "source": [
        "# Calculate TF"
      ],
      "execution_count": null,
      "outputs": []
    },
    {
      "cell_type": "code",
      "metadata": {
        "id": "Xp6U7tGR4uXk"
      },
      "source": [
        "df = df.withColumn(\"id\", F.monotonically_increasing_id())\n",
        "tf = df.withColumn(\"word_count\", F.lit(\"1\").cast(IntegerType()))\n",
        "tf = tf.withColumn(\"word\", F.explode(F.col(\"Review\"))).drop(\"Review\")\n",
        "tf = tf.filter(F.col(\"word\").isin(TOP_WORDS))\n",
        "word_count_in_doc = tf.groupby(F.col(\"id\"), F.col(\"word\")).agg(F.sum(\"word_count\").alias(\"word_count\"))\n",
        "doc_len = tf.groupby(\"id\").agg(F.count(\"word\").alias(\"doc_len\"))\n",
        "tf = word_count_in_doc.join(doc_len, on=[\"id\"])\n",
        "tf = tf.withColumn(\"tf\", F.col(\"word_count\")/F.col(\"doc_len\"))\n",
        "tf = tf.select(\"id\", \"word\", \"tf\")"
      ],
      "execution_count": null,
      "outputs": []
    },
    {
      "cell_type": "code",
      "metadata": {
        "id": "d5jTbDIBJ0Mp"
      },
      "source": [
        "tf.show(5)"
      ],
      "execution_count": null,
      "outputs": []
    },
    {
      "cell_type": "code",
      "metadata": {
        "id": "jsXQuPz2JVOz"
      },
      "source": [
        "# Merge and get result"
      ],
      "execution_count": null,
      "outputs": []
    },
    {
      "cell_type": "code",
      "metadata": {
        "id": "U86AHcgUBJhK"
      },
      "source": [
        "joined = tf.join(idf, on=[\"word\"])\n",
        "joined = joined.withColumn(\"tf_idf\", F.col(\"tf\")*F.col(\"idf\"))\n",
        "joined = joined.select(\"id\",\"word\",\"tf_idf\")"
      ],
      "execution_count": null,
      "outputs": []
    },
    {
      "cell_type": "code",
      "metadata": {
        "id": "9T6KKTmhDawj"
      },
      "source": [
        "tf_idf = joined.groupBy(\"id\").pivot(\"word\").agg(F.first(F.col(\"tf_idf\")))\n",
        "tf_idf = tf_idf.fillna(0.0)"
      ],
      "execution_count": null,
      "outputs": []
    },
    {
      "cell_type": "code",
      "metadata": {
        "id": "MzOum7PmCCNw"
      },
      "source": [
        "tf_idf.show()"
      ],
      "execution_count": null,
      "outputs": []
    },
    {
      "cell_type": "code",
      "metadata": {
        "id": "neysgic5EJP9"
      },
      "source": [
        ""
      ],
      "execution_count": null,
      "outputs": []
    }
  ]
}